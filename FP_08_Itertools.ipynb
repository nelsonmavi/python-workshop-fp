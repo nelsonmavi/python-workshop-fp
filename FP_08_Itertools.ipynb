{
 "cells": [
  {
   "cell_type": "markdown",
   "id": "cc11512c",
   "metadata": {},
   "source": [
    "# Itertools\n",
    "\n",
    "- `product`\n",
    "- `starmap`"
   ]
  },
  {
   "cell_type": "code",
   "execution_count": 4,
   "id": "d026abce",
   "metadata": {},
   "outputs": [],
   "source": [
    "from itertools import product, starmap"
   ]
  },
  {
   "cell_type": "code",
   "execution_count": 5,
   "id": "559e0661",
   "metadata": {},
   "outputs": [
    {
     "data": {
      "text/plain": [
       "32"
      ]
     },
     "execution_count": 5,
     "metadata": {},
     "output_type": "execute_result"
    }
   ],
   "source": [
    "len(list(product([0,1], repeat=5)))"
   ]
  },
  {
   "cell_type": "markdown",
   "id": "5de6ca09",
   "metadata": {},
   "source": [
    "## Collections\n",
    "- `namedtuple`\n",
    "- `Counter`"
   ]
  },
  {
   "cell_type": "code",
   "execution_count": 7,
   "id": "8a8b1e52",
   "metadata": {},
   "outputs": [],
   "source": [
    "from collections import Counter, namedtuple"
   ]
  },
  {
   "cell_type": "code",
   "execution_count": 8,
   "id": "a6429297",
   "metadata": {},
   "outputs": [
    {
     "data": {
      "text/plain": [
       "Counter({'a': 5, 'b': 3, 'c': 2})"
      ]
     },
     "execution_count": 8,
     "metadata": {},
     "output_type": "execute_result"
    }
   ],
   "source": [
    "Counter(list('aaaaabbbcc'))"
   ]
  },
  {
   "cell_type": "code",
   "execution_count": 10,
   "id": "c2df26d5",
   "metadata": {},
   "outputs": [],
   "source": [
    "# Tuple\n",
    "peter = tuple([\"Peter\", \"Smith\"])"
   ]
  },
  {
   "cell_type": "code",
   "execution_count": 17,
   "id": "e1bc9df8",
   "metadata": {},
   "outputs": [
    {
     "data": {
      "text/plain": [
       "'Smith'"
      ]
     },
     "execution_count": 17,
     "metadata": {},
     "output_type": "execute_result"
    }
   ],
   "source": [
    "peter[1]"
   ]
  },
  {
   "cell_type": "code",
   "execution_count": 11,
   "id": "2fddf803",
   "metadata": {},
   "outputs": [],
   "source": [
    "# Named Tuple\n",
    "Person = namedtuple('Person', 'name,last_name')"
   ]
  },
  {
   "cell_type": "code",
   "execution_count": 12,
   "id": "8e53e4ca",
   "metadata": {},
   "outputs": [],
   "source": [
    "john = Person(\"John\", \"Smith\")"
   ]
  },
  {
   "cell_type": "code",
   "execution_count": 13,
   "id": "ebf31eda",
   "metadata": {},
   "outputs": [
    {
     "data": {
      "text/plain": [
       "('John', 'Smith')"
      ]
     },
     "execution_count": 13,
     "metadata": {},
     "output_type": "execute_result"
    }
   ],
   "source": [
    "john.name, john.last_name"
   ]
  },
  {
   "cell_type": "code",
   "execution_count": 14,
   "id": "22f90c2c",
   "metadata": {},
   "outputs": [],
   "source": [
    "from operator import attrgetter as at"
   ]
  },
  {
   "cell_type": "code",
   "execution_count": 15,
   "id": "c16fc1bd",
   "metadata": {},
   "outputs": [
    {
     "data": {
      "text/plain": [
       "'Smith'"
      ]
     },
     "execution_count": 15,
     "metadata": {},
     "output_type": "execute_result"
    }
   ],
   "source": [
    "at(\"last_name\")(john)"
   ]
  },
  {
   "cell_type": "markdown",
   "id": "5a0bb167",
   "metadata": {},
   "source": [
    "### StarMap"
   ]
  },
  {
   "cell_type": "code",
   "execution_count": 24,
   "id": "8c74ee5d",
   "metadata": {},
   "outputs": [
    {
     "data": {
      "text/plain": [
       "[Person(name='Peter', last_name='Smith'),\n",
       " Person(name='John', last_name='Lars')]"
      ]
     },
     "execution_count": 24,
     "metadata": {},
     "output_type": "execute_result"
    }
   ],
   "source": [
    "list(starmap(Person, [(\"Peter\", \"Smith\") , (\"John\", \"Lars\")]))"
   ]
  },
  {
   "cell_type": "code",
   "execution_count": 28,
   "id": "f764d921",
   "metadata": {},
   "outputs": [
    {
     "data": {
      "text/plain": [
       "[1, 2, 3, 4, 5, 6]"
      ]
     },
     "execution_count": 28,
     "metadata": {},
     "output_type": "execute_result"
    }
   ],
   "source": [
    "[1,2,3] + [*[4,5,6]]"
   ]
  },
  {
   "cell_type": "code",
   "execution_count": 30,
   "id": "93e4314b",
   "metadata": {},
   "outputs": [
    {
     "data": {
      "text/plain": [
       "[6, 15]"
      ]
     },
     "execution_count": 30,
     "metadata": {},
     "output_type": "execute_result"
    }
   ],
   "source": [
    "data = [[1,2,3],[4,5,6]]\n",
    "list(starmap(lambda x,y,z: x + y+ z, data))"
   ]
  },
  {
   "cell_type": "code",
   "execution_count": 31,
   "id": "5e6fd252",
   "metadata": {},
   "outputs": [
    {
     "data": {
      "text/plain": [
       "{'a': 10, 'b': 20}"
      ]
     },
     "execution_count": 31,
     "metadata": {},
     "output_type": "execute_result"
    }
   ],
   "source": [
    "x = {\"a\" : 10}\n",
    "y = {\"b\" : 20}\n",
    "{**x, **y}"
   ]
  },
  {
   "cell_type": "markdown",
   "id": "42adeeaf",
   "metadata": {},
   "source": [
    "### Unpacking\n",
    "\n",
    "Using `*` to convert a collection to a series of elements.\n",
    "Used when trying to pass individual arguments instead of a list or a dictionary to a function"
   ]
  },
  {
   "cell_type": "code",
   "execution_count": 32,
   "id": "80d3c84c",
   "metadata": {},
   "outputs": [
    {
     "data": {
      "text/plain": [
       "[1, 2, 3, [3, 4, 5]]"
      ]
     },
     "execution_count": 32,
     "metadata": {},
     "output_type": "execute_result"
    }
   ],
   "source": [
    "[1,2,3] + [[3,4,5]]"
   ]
  },
  {
   "cell_type": "code",
   "execution_count": 33,
   "id": "a9b35957",
   "metadata": {},
   "outputs": [],
   "source": [
    "def test_fn(args):\n",
    "    print(type(args))"
   ]
  },
  {
   "cell_type": "code",
   "execution_count": 34,
   "id": "f7344798",
   "metadata": {},
   "outputs": [
    {
     "name": "stdout",
     "output_type": "stream",
     "text": [
      "<class 'list'>\n"
     ]
    }
   ],
   "source": [
    "test_fn([1,2,3])"
   ]
  },
  {
   "cell_type": "code",
   "execution_count": 36,
   "id": "64c08951",
   "metadata": {},
   "outputs": [
    {
     "name": "stdout",
     "output_type": "stream",
     "text": [
      "<class 'int'>\n"
     ]
    }
   ],
   "source": [
    "test_fn(*[1])"
   ]
  },
  {
   "cell_type": "code",
   "execution_count": null,
   "id": "56bb91a8",
   "metadata": {},
   "outputs": [],
   "source": []
  }
 ],
 "metadata": {
  "kernelspec": {
   "display_name": "Python 3",
   "language": "python",
   "name": "python3"
  },
  "language_info": {
   "codemirror_mode": {
    "name": "ipython",
    "version": 3
   },
   "file_extension": ".py",
   "mimetype": "text/x-python",
   "name": "python",
   "nbconvert_exporter": "python",
   "pygments_lexer": "ipython3",
   "version": "3.12.1"
  }
 },
 "nbformat": 4,
 "nbformat_minor": 5
}
