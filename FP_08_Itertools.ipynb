{
 "cells": [
  {
   "cell_type": "markdown",
   "id": "f5d4f8db",
   "metadata": {},
   "source": [
    "Itertools \n",
    "- product\n",
    "- starmap"
   ]
  },
  {
   "cell_type": "code",
   "execution_count": 1,
   "id": "80329c8a",
   "metadata": {},
   "outputs": [],
   "source": [
    "from itertools import product, starmap"
   ]
  },
  {
   "cell_type": "code",
   "execution_count": 3,
   "id": "2b2fe94d",
   "metadata": {},
   "outputs": [
    {
     "data": {
      "text/plain": [
       "32"
      ]
     },
     "execution_count": 3,
     "metadata": {},
     "output_type": "execute_result"
    }
   ],
   "source": [
    "len(list(product([0,1], repeat=5)))"
   ]
  },
  {
   "cell_type": "code",
   "execution_count": 16,
   "id": "d6787c55",
   "metadata": {},
   "outputs": [],
   "source": [
    "from collections import Counter, namedtuple\n",
    "from operator import attrgetter as at"
   ]
  },
  {
   "cell_type": "code",
   "execution_count": 7,
   "id": "34b494e1",
   "metadata": {},
   "outputs": [],
   "source": [
    "c = list('aaaabbbbcc')"
   ]
  },
  {
   "cell_type": "code",
   "execution_count": 8,
   "id": "bb1419bd",
   "metadata": {},
   "outputs": [
    {
     "data": {
      "text/plain": [
       "Counter({'a': 4, 'b': 4, 'c': 2})"
      ]
     },
     "execution_count": 8,
     "metadata": {},
     "output_type": "execute_result"
    }
   ],
   "source": [
    "Counter(c)"
   ]
  },
  {
   "cell_type": "code",
   "execution_count": 9,
   "id": "85407b18",
   "metadata": {},
   "outputs": [],
   "source": [
    "Person = namedtuple('Person', 'name,last_name')"
   ]
  },
  {
   "cell_type": "code",
   "execution_count": 10,
   "id": "105f347b",
   "metadata": {},
   "outputs": [],
   "source": [
    "john = Person(name='John', last_name='Doe')"
   ]
  },
  {
   "cell_type": "code",
   "execution_count": 11,
   "id": "d019d479",
   "metadata": {},
   "outputs": [
    {
     "data": {
      "text/plain": [
       "('John', 'Doe')"
      ]
     },
     "execution_count": 11,
     "metadata": {},
     "output_type": "execute_result"
    }
   ],
   "source": [
    "john.name, john.last_name"
   ]
  },
  {
   "cell_type": "code",
   "execution_count": 13,
   "id": "c4222be9",
   "metadata": {},
   "outputs": [
    {
     "data": {
      "text/plain": [
       "'Doe'"
      ]
     },
     "execution_count": 13,
     "metadata": {},
     "output_type": "execute_result"
    }
   ],
   "source": [
    "at(\"last_name\")(john)"
   ]
  },
  {
   "cell_type": "code",
   "execution_count": 14,
   "id": "901a0175",
   "metadata": {},
   "outputs": [],
   "source": [
    "peter = tuple([\"Peter\", \"Smith\"])"
   ]
  },
  {
   "cell_type": "code",
   "execution_count": 15,
   "id": "9ffea15f",
   "metadata": {},
   "outputs": [
    {
     "data": {
      "text/plain": [
       "'Smith'"
      ]
     },
     "execution_count": 15,
     "metadata": {},
     "output_type": "execute_result"
    }
   ],
   "source": [
    "peter[1]"
   ]
  },
  {
   "cell_type": "code",
   "execution_count": null,
   "id": "d51f6c4d",
   "metadata": {},
   "outputs": [],
   "source": [
    "list(map(lambda x: 'Mr. '+ x, [(\"Peter\", \"Smith\")]))"
   ]
  },
  {
   "cell_type": "code",
   "execution_count": 18,
   "id": "39587f94",
   "metadata": {},
   "outputs": [
    {
     "data": {
      "text/plain": [
       "[Person(name='Peter', last_name='Smith'),\n",
       " Person(name='John', last_name='Lars')]"
      ]
     },
     "execution_count": 18,
     "metadata": {},
     "output_type": "execute_result"
    }
   ],
   "source": [
    "list(starmap(Person, [(\"Peter\", \"Smith\"),(\"John\", \"Lars\")]))"
   ]
  },
  {
   "cell_type": "code",
   "execution_count": 19,
   "id": "81ffaac5",
   "metadata": {},
   "outputs": [
    {
     "data": {
      "text/plain": [
       "[1, 2, 3, 4, 5, 6]"
      ]
     },
     "execution_count": 19,
     "metadata": {},
     "output_type": "execute_result"
    }
   ],
   "source": [
    "[1,2,3] + [*[4,5,6]]"
   ]
  },
  {
   "cell_type": "code",
   "execution_count": 21,
   "id": "78836b8a",
   "metadata": {},
   "outputs": [
    {
     "data": {
      "text/plain": [
       "{'a': 10, 'b': 20}"
      ]
     },
     "execution_count": 21,
     "metadata": {},
     "output_type": "execute_result"
    }
   ],
   "source": [
    "x = {\"a\" : 10}\n",
    "y = {\"b\" : 20}\n",
    "\n",
    "{**x, **y}"
   ]
  },
  {
   "cell_type": "code",
   "execution_count": null,
   "id": "65e86726",
   "metadata": {},
   "outputs": [],
   "source": []
  }
 ],
 "metadata": {
  "kernelspec": {
   "display_name": "Python 3",
   "language": "python",
   "name": "python3"
  },
  "language_info": {
   "codemirror_mode": {
    "name": "ipython",
    "version": 3
   },
   "file_extension": ".py",
   "mimetype": "text/x-python",
   "name": "python",
   "nbconvert_exporter": "python",
   "pygments_lexer": "ipython3",
   "version": "3.12.1"
  }
 },
 "nbformat": 4,
 "nbformat_minor": 5
}
