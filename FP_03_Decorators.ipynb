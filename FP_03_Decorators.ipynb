{
 "cells": [
  {
   "cell_type": "markdown",
   "id": "81fee495",
   "metadata": {},
   "source": [
    "# Decorators\n",
    "\n",
    "Functions that wrap other functions adding behavior\n",
    "- Implemented just a function returning another function\n",
    "- Use `functools.wraps` to enable the docstrings to be respected\n",
    "\n",
    "\n",
    "## Aid:\n",
    "```python\n",
    "def deco(func):\n",
    "    def _inner(*args, **kwargs):\n",
    "        print(\"Before\")\n",
    "        func(args, kwargs)\n",
    "        print(\"After\")\n",
    "    return _inner\n",
    "```"
   ]
  },
  {
   "cell_type": "code",
   "execution_count": 6,
   "id": "15466f32",
   "metadata": {},
   "outputs": [],
   "source": [
    "from functools import wraps"
   ]
  },
  {
   "cell_type": "code",
   "execution_count": 7,
   "id": "5addaf11",
   "metadata": {},
   "outputs": [],
   "source": [
    "# A function that receives a function as an argument\n",
    "def mydecorator(func):\n",
    "    @wraps\n",
    "    def _inner(*args, **kwargs):\n",
    "        print(\"Before the function call\")\n",
    "        result = func(*args, **kwargs)\n",
    "        print(\"After the function call\")\n",
    "    return _inner"
   ]
  },
  {
   "cell_type": "code",
   "execution_count": 8,
   "id": "adb33702",
   "metadata": {},
   "outputs": [
    {
     "data": {
      "text/plain": [
       "functools.partial"
      ]
     },
     "execution_count": 8,
     "metadata": {},
     "output_type": "execute_result"
    }
   ],
   "source": [
    "type(mydecorator(lambda x: x + 1))"
   ]
  },
  {
   "cell_type": "code",
   "execution_count": null,
   "id": "0d3f1321",
   "metadata": {},
   "outputs": [],
   "source": []
  },
  {
   "cell_type": "code",
   "execution_count": 11,
   "id": "3f001fdf",
   "metadata": {},
   "outputs": [],
   "source": [
    "@mydecorator\n",
    "def test_func():\n",
    "    \"\"\"This is a test function.\"\"\"\n",
    "    print(\"Do something\")\n",
    "    "
   ]
  },
  {
   "cell_type": "code",
   "execution_count": 12,
   "id": "79bec60a",
   "metadata": {},
   "outputs": [
    {
     "ename": "TypeError",
     "evalue": "update_wrapper() missing 1 required positional argument: 'wrapper'",
     "output_type": "error",
     "traceback": [
      "\u001b[31m---------------------------------------------------------------------------\u001b[39m",
      "\u001b[31mTypeError\u001b[39m                                 Traceback (most recent call last)",
      "\u001b[36mCell\u001b[39m\u001b[36m \u001b[39m\u001b[32mIn[12]\u001b[39m\u001b[32m, line 1\u001b[39m\n\u001b[32m----> \u001b[39m\u001b[32m1\u001b[39m \u001b[43mtest_func\u001b[49m\u001b[43m(\u001b[49m\u001b[43m)\u001b[49m\n",
      "\u001b[31mTypeError\u001b[39m: update_wrapper() missing 1 required positional argument: 'wrapper'"
     ]
    }
   ],
   "source": [
    "test_func()"
   ]
  },
  {
   "cell_type": "code",
   "execution_count": null,
   "id": "eeeb12e3",
   "metadata": {},
   "outputs": [],
   "source": []
  }
 ],
 "metadata": {
  "kernelspec": {
   "display_name": "Python 3",
   "language": "python",
   "name": "python3"
  },
  "language_info": {
   "codemirror_mode": {
    "name": "ipython",
    "version": 3
   },
   "file_extension": ".py",
   "mimetype": "text/x-python",
   "name": "python",
   "nbconvert_exporter": "python",
   "pygments_lexer": "ipython3",
   "version": "3.12.1"
  }
 },
 "nbformat": 4,
 "nbformat_minor": 5
}
