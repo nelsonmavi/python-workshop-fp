{
 "cells": [
  {
   "cell_type": "markdown",
   "id": "81fee495",
   "metadata": {},
   "source": [
    "# Decorators\n",
    "\n",
    "Functions that wrap other functions adding behavior\n",
    "- Implemented just a function returning another function\n",
    "- Use `functools.wraps` to enable the docstrings to be respected\n",
    "\n",
    "\n",
    "## Aid:\n",
    "```python\n",
    "def deco(func):\n",
    "    def _inner(*args, **kwargs):\n",
    "        print(\"Before\")\n",
    "        func(args, kwargs)\n",
    "        print(\"After\")\n",
    "    return _inner\n",
    "```"
   ]
  },
  {
   "cell_type": "code",
   "execution_count": 1,
   "id": "c3aa3d80",
   "metadata": {},
   "outputs": [],
   "source": [
    "from functools import wraps"
   ]
  },
  {
   "cell_type": "code",
   "execution_count": 27,
   "id": "c74768f9",
   "metadata": {},
   "outputs": [],
   "source": [
    "# A function that receives a function as a parameter\n",
    "def mydecorator(func):\n",
    "    @wraps(func)\n",
    "    def _inner(*args, **kwargs):\n",
    "        print(\"Before Call\")\n",
    "        func(*args, **kwargs)\n",
    "        print(\"After Call\")\n",
    "    return _inner"
   ]
  },
  {
   "cell_type": "code",
   "execution_count": 23,
   "id": "daeac511",
   "metadata": {},
   "outputs": [
    {
     "data": {
      "text/plain": [
       "function"
      ]
     },
     "execution_count": 23,
     "metadata": {},
     "output_type": "execute_result"
    }
   ],
   "source": [
    "type(mydecorator(lambda x: x + 1))"
   ]
  },
  {
   "cell_type": "code",
   "execution_count": 29,
   "id": "ba38c16a",
   "metadata": {},
   "outputs": [],
   "source": [
    "@mydecorator\n",
    "def test_function(x):\n",
    "    \"\"\"Adding 10 to a number\"\"\"\n",
    "    return x + 10"
   ]
  },
  {
   "cell_type": "code",
   "execution_count": 30,
   "id": "069061e8",
   "metadata": {},
   "outputs": [
    {
     "name": "stdout",
     "output_type": "stream",
     "text": [
      "Before Call\n",
      "After Call\n"
     ]
    }
   ],
   "source": [
    "test_function(5)"
   ]
  },
  {
   "cell_type": "code",
   "execution_count": 31,
   "id": "b5cb27d2",
   "metadata": {},
   "outputs": [
    {
     "name": "stdout",
     "output_type": "stream",
     "text": [
      "\u001b[31mSignature:\u001b[39m test_function(x)\n",
      "\u001b[31mDocstring:\u001b[39m Adding 10 to a number\n",
      "\u001b[31mFile:\u001b[39m      /tmp/ipykernel_20046/2215335689.py\n",
      "\u001b[31mType:\u001b[39m      function"
     ]
    }
   ],
   "source": [
    "test_function?"
   ]
  },
  {
   "cell_type": "code",
   "execution_count": null,
   "id": "1ec1bdd0",
   "metadata": {},
   "outputs": [],
   "source": []
  }
 ],
 "metadata": {
  "kernelspec": {
   "display_name": "Python 3",
   "language": "python",
   "name": "python3"
  },
  "language_info": {
   "codemirror_mode": {
    "name": "ipython",
    "version": 3
   },
   "file_extension": ".py",
   "mimetype": "text/x-python",
   "name": "python",
   "nbconvert_exporter": "python",
   "pygments_lexer": "ipython3",
   "version": "3.12.1"
  }
 },
 "nbformat": 4,
 "nbformat_minor": 5
}
