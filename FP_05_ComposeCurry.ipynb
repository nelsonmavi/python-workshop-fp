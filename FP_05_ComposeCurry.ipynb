{
 "cells": [
  {
   "cell_type": "markdown",
   "id": "70a88eca",
   "metadata": {},
   "source": [
    "# Compose\n",
    "\n",
    "Composition is the art of chaining function calls for a desire outcome\n",
    "Suppose the following functions\n",
    "\n",
    "- $f(x): x + 2$\n",
    "- $g(x): x \\times 10$\n",
    "- $h(x): x \\div 5$\n",
    "\n",
    "## Aid\n",
    "```python\n",
    "\n",
    "_f = lambda x: x + 2\n",
    "_g = lambda x: x * 10\n",
    "_h = lambda x: x / 5\n",
    "\n",
    "from toolz import compose\n",
    "_z = compose(_h, _g, _f)\n",
    "\n",
    "list(map(_z, range(10)))\n",
    "```\n",
    "\n",
    "> __Alternative:__ $ (x + 2)\\frac{10}{5} $\n",
    "\n",
    "\n",
    "# Curry\n",
    "\n",
    "Breaking a function that takes multiple arguments into a series of functions that take `n` arguments\n",
    "\n",
    "```python\n",
    "from toolz import curry\n",
    "\n",
    "@curry\n",
    "def mysum(x,y):\n",
    "    return x + y\n",
    "\n",
    "mysum(5,5)\n",
    "\n",
    "# What happen with: \n",
    "# mysum(5)\n",
    "\n",
    "```\n"
   ]
  },
  {
   "cell_type": "markdown",
   "id": "1b9401e5",
   "metadata": {},
   "source": [
    "# Exercise #2"
   ]
  },
  {
   "cell_type": "markdown",
   "id": "47a33ea9",
   "metadata": {},
   "source": [
    "I want to:\n",
    "- Filter numbers from `MX` Mexico\n",
    "- Replace all `-` by dots `.`\n",
    "- Prepend country code `+52.` to the numbers"
   ]
  },
  {
   "cell_type": "code",
   "execution_count": 129,
   "id": "2ea33b83",
   "metadata": {},
   "outputs": [
    {
     "data": {
      "text/plain": [
       "[{'MX': '111-222-333'},\n",
       " {'MX': '444-555-666'},\n",
       " {'NL': '999-000-000'},\n",
       " {'FR': '555-555-555'}]"
      ]
     },
     "execution_count": 129,
     "metadata": {},
     "output_type": "execute_result"
    }
   ],
   "source": [
    "data = [\n",
    "    {\"MX\" : \"111-222-333\"},\n",
    "    {\"MX\" : \"444-555-666\"},\n",
    "    {\"NL\" : \"999-000-000\"},\n",
    "    {\"FR\" : \"555-555-555\"}\n",
    "]\n",
    "data"
   ]
  },
  {
   "cell_type": "markdown",
   "id": "605fdcd5",
   "metadata": {},
   "source": [
    "### For-Loops"
   ]
  },
  {
   "cell_type": "code",
   "execution_count": 130,
   "id": "6c626039",
   "metadata": {},
   "outputs": [],
   "source": [
    "def convert_loop(data):\n",
    "    new_phones = []\n",
    "    for d in data:\n",
    "        for k,v in d.items():\n",
    "            if k == \"MX\":\n",
    "                new_phone = \"+52.\" + v.replace(\"-\", \".\")\n",
    "                new_phones.append({\"MX\" : new_phone})\n",
    "\n",
    "    return new_phones\n"
   ]
  },
  {
   "cell_type": "markdown",
   "id": "a5673037",
   "metadata": {},
   "source": [
    "### Compose-Curry"
   ]
  },
  {
   "cell_type": "code",
   "execution_count": null,
   "id": "fa4972c5",
   "metadata": {},
   "outputs": [],
   "source": [
    "from toolz import curried as C\n",
    "from toolz import compose\n",
    "from operator import add\n",
    "from functools import partial\n",
    "from operator import eq\n",
    "\n",
    "def convert_map(data):\n",
    "    _is_mx = C.keyfilter(partial(eq, 'MX'))\n",
    "    _dot = lambda x: x.replace(\"-\", \".\")\n",
    "    _code = partial(add, \"+52.\")\n",
    "    _fix_number = C.valmap(compose(_code, _dot))\n",
    "    return list(map(_fix_number, filter(_is_mx, data)))"
   ]
  },
  {
   "cell_type": "markdown",
   "id": "66e61e85",
   "metadata": {},
   "source": [
    "## Proof"
   ]
  },
  {
   "cell_type": "code",
   "execution_count": 113,
   "id": "992e4f55",
   "metadata": {},
   "outputs": [
    {
     "name": "stdout",
     "output_type": "stream",
     "text": [
      "Number of instructions: 6\n"
     ]
    }
   ],
   "source": [
    "import ast\n",
    "\n",
    "# Example Python code as a string\n",
    "code = \"\"\"\n",
    "new_phones = []\n",
    "for d in data:\n",
    "    for k,v in d.items():\n",
    "        if k == \"MX\":\n",
    "            new_phone = \"+52.\" + v.replace(\"-\", \".\")\n",
    "            new_phones.append({\"MX\" : new_phone})\n",
    "\"\"\"\n",
    "\n",
    "# Parse to AST\n",
    "tree = ast.parse(code)\n",
    "\n",
    "# Count instruction-like nodes (statements)\n",
    "instruction_types = (\n",
    "    ast.Assign, ast.AugAssign, ast.AnnAssign,\n",
    "    ast.For, ast.If, ast.While, ast.With, ast.Expr,\n",
    "    ast.FunctionDef, ast.AsyncFunctionDef, ast.ClassDef,\n",
    "    ast.Return, ast.Raise, ast.Try, ast.Assert, ast.Import,\n",
    "    ast.ImportFrom, ast.Delete, ast.Global, ast.Nonlocal, ast.Pass,\n",
    "    ast.Break, ast.Continue\n",
    ")\n",
    "\n",
    "# Walk the tree and count\n",
    "instruction_count = sum(1 for node in ast.walk(tree) if isinstance(node, instruction_types))\n",
    "\n",
    "print(\"Number of instructions:\", instruction_count)\n"
   ]
  },
  {
   "cell_type": "code",
   "execution_count": 114,
   "id": "5a24d1d6",
   "metadata": {},
   "outputs": [
    {
     "name": "stdout",
     "output_type": "stream",
     "text": [
      "Number of instructions: 4\n"
     ]
    }
   ],
   "source": [
    "import ast\n",
    "\n",
    "# Example Python code as a string\n",
    "code = \"\"\"\n",
    "_is_mx = C.keyfilter(partial(eq, 'MX'))\n",
    "_dot = lambda x: x.replace(\"-\", \".\")\n",
    "_code = partial(add, \"+52.\")\n",
    "_fix_number = C.valmap(compose(_code, _dot))\n",
    "\"\"\"\n",
    "\n",
    "# Parse to AST\n",
    "tree = ast.parse(code)\n",
    "\n",
    "# Count instruction-like nodes (statements)\n",
    "instruction_types = (\n",
    "    ast.Assign, ast.AugAssign, ast.AnnAssign,\n",
    "    ast.For, ast.If, ast.While, ast.With, ast.Expr,\n",
    "    ast.FunctionDef, ast.AsyncFunctionDef, ast.ClassDef,\n",
    "    ast.Return, ast.Raise, ast.Try, ast.Assert, ast.Import,\n",
    "    ast.ImportFrom, ast.Delete, ast.Global, ast.Nonlocal, ast.Pass,\n",
    "    ast.Break, ast.Continue\n",
    ")\n",
    "\n",
    "\n",
    "# Walk the tree and count\n",
    "instruction_count = sum(1 for node in ast.walk(tree) if isinstance(node, instruction_types))\n",
    "\n",
    "print(\"Number of instructions:\", instruction_count)"
   ]
  },
  {
   "cell_type": "code",
   "execution_count": 117,
   "id": "0f1b23b5",
   "metadata": {},
   "outputs": [
    {
     "name": "stdout",
     "output_type": "stream",
     "text": [
      "  1           0 RESUME                   0\n",
      "\n",
      "  2           2 BUILD_LIST               0\n",
      "              4 STORE_FAST               1 (new_phones)\n",
      "\n",
      "  3           6 LOAD_FAST                0 (data)\n",
      "              8 GET_ITER\n",
      "        >>   10 FOR_ITER                72 (to 158)\n",
      "             14 STORE_FAST               2 (d)\n",
      "\n",
      "  4          16 LOAD_FAST                2 (d)\n",
      "             18 LOAD_ATTR                1 (NULL|self + items)\n",
      "             38 CALL                     0\n",
      "             46 GET_ITER\n",
      "        >>   48 FOR_ITER                51 (to 154)\n",
      "             52 UNPACK_SEQUENCE          2\n",
      "             56 STORE_FAST               3 (k)\n",
      "             58 STORE_FAST               4 (v)\n",
      "\n",
      "  5          60 LOAD_FAST                3 (k)\n",
      "             62 LOAD_CONST               1 ('MX')\n",
      "             64 COMPARE_OP              40 (==)\n",
      "             68 POP_JUMP_IF_TRUE         1 (to 72)\n",
      "             70 JUMP_BACKWARD           12 (to 48)\n",
      "\n",
      "  6     >>   72 LOAD_CONST               2 ('+52.')\n",
      "             74 LOAD_FAST                4 (v)\n",
      "             76 LOAD_ATTR                3 (NULL|self + replace)\n",
      "             96 LOAD_CONST               3 ('-')\n",
      "             98 LOAD_CONST               4 ('.')\n",
      "            100 CALL                     2\n",
      "            108 BINARY_OP                0 (+)\n",
      "            112 STORE_FAST               5 (new_phone)\n",
      "\n",
      "  7         114 LOAD_FAST                1 (new_phones)\n",
      "            116 LOAD_ATTR                5 (NULL|self + append)\n",
      "            136 LOAD_CONST               1 ('MX')\n",
      "            138 LOAD_FAST                5 (new_phone)\n",
      "            140 BUILD_MAP                1\n",
      "            142 CALL                     1\n",
      "            150 POP_TOP\n",
      "            152 JUMP_BACKWARD           53 (to 48)\n",
      "\n",
      "  4     >>  154 END_FOR\n",
      "            156 JUMP_BACKWARD           74 (to 10)\n",
      "\n",
      "  3     >>  158 END_FOR\n",
      "\n",
      "  9         160 LOAD_FAST                1 (new_phones)\n",
      "            162 RETURN_VALUE\n"
     ]
    }
   ],
   "source": [
    "import dis\n",
    "\n",
    "dis.dis(convert_loop)"
   ]
  },
  {
   "cell_type": "code",
   "execution_count": 116,
   "id": "2c163d90",
   "metadata": {},
   "outputs": [
    {
     "name": "stdout",
     "output_type": "stream",
     "text": [
      "  7           0 RESUME                   0\n",
      "\n",
      "  8           2 LOAD_GLOBAL              0 (C)\n",
      "             12 LOAD_ATTR                3 (NULL|self + keyfilter)\n",
      "             32 LOAD_GLOBAL              5 (NULL + partial)\n",
      "             42 LOAD_GLOBAL              6 (eq)\n",
      "             52 LOAD_CONST               1 ('MX')\n",
      "             54 CALL                     2\n",
      "             62 CALL                     1\n",
      "             70 STORE_FAST               1 (_is_mx)\n",
      "\n",
      "  9          72 LOAD_CONST               2 (<code object <lambda> at 0x78a5f2afbb40, file \"/tmp/ipykernel_15398/3165421500.py\", line 9>)\n",
      "             74 MAKE_FUNCTION            0\n",
      "             76 STORE_FAST               2 (_dot)\n",
      "\n",
      " 10          78 LOAD_GLOBAL              5 (NULL + partial)\n",
      "             88 LOAD_GLOBAL              8 (add)\n",
      "             98 LOAD_CONST               3 ('+52.')\n",
      "            100 CALL                     2\n",
      "            108 STORE_FAST               3 (_code)\n",
      "\n",
      " 11         110 LOAD_GLOBAL              0 (C)\n",
      "            120 LOAD_ATTR               11 (NULL|self + valmap)\n",
      "            140 LOAD_GLOBAL             13 (NULL + compose)\n",
      "            150 LOAD_FAST                3 (_code)\n",
      "            152 LOAD_FAST                2 (_dot)\n",
      "            154 CALL                     2\n",
      "            162 CALL                     1\n",
      "            170 STORE_FAST               4 (_fix_number)\n",
      "\n",
      " 12         172 LOAD_GLOBAL             15 (NULL + list)\n",
      "            182 LOAD_GLOBAL             17 (NULL + map)\n",
      "            192 LOAD_FAST                4 (_fix_number)\n",
      "            194 LOAD_GLOBAL             19 (NULL + filter)\n",
      "            204 LOAD_FAST                1 (_is_mx)\n",
      "            206 LOAD_FAST                0 (data)\n",
      "            208 CALL                     2\n",
      "            216 CALL                     2\n",
      "            224 CALL                     1\n",
      "            232 RETURN_VALUE\n",
      "\n",
      "Disassembly of <code object <lambda> at 0x78a5f2afbb40, file \"/tmp/ipykernel_15398/3165421500.py\", line 9>:\n",
      "  9           0 RESUME                   0\n",
      "              2 LOAD_FAST                0 (x)\n",
      "              4 LOAD_ATTR                1 (NULL|self + replace)\n",
      "             24 LOAD_CONST               1 ('-')\n",
      "             26 LOAD_CONST               2 ('.')\n",
      "             28 CALL                     2\n",
      "             36 RETURN_VALUE\n"
     ]
    }
   ],
   "source": [
    "import dis\n",
    "\n",
    "dis.dis(convert_map)"
   ]
  },
  {
   "cell_type": "code",
   "execution_count": 127,
   "id": "b3e28c29",
   "metadata": {},
   "outputs": [
    {
     "name": "stdout",
     "output_type": "stream",
     "text": [
      "151 RESUME\n",
      "0 CACHE\n",
      "116 LOAD_GLOBAL\n",
      "0 CACHE\n",
      "0 CACHE\n",
      "0 CACHE\n",
      "0 CACHE\n",
      "0 CACHE\n",
      "0 CACHE\n",
      "0 CACHE\n",
      "0 CACHE\n",
      "0 CACHE\n",
      "106 LOAD_ATTR\n",
      "3 INTERPRETER_EXIT\n",
      "0 CACHE\n",
      "0 CACHE\n",
      "0 CACHE\n",
      "0 CACHE\n",
      "0 CACHE\n",
      "0 CACHE\n",
      "0 CACHE\n",
      "0 CACHE\n",
      "0 CACHE\n",
      "0 CACHE\n",
      "0 CACHE\n",
      "0 CACHE\n",
      "0 CACHE\n",
      "0 CACHE\n",
      "0 CACHE\n",
      "0 CACHE\n",
      "0 CACHE\n",
      "0 CACHE\n",
      "116 LOAD_GLOBAL\n",
      "5 END_SEND\n",
      "0 CACHE\n",
      "0 CACHE\n",
      "0 CACHE\n",
      "0 CACHE\n",
      "0 CACHE\n",
      "0 CACHE\n",
      "0 CACHE\n",
      "0 CACHE\n",
      "116 LOAD_GLOBAL\n",
      "6 <6>\n",
      "0 CACHE\n",
      "0 CACHE\n",
      "0 CACHE\n",
      "0 CACHE\n",
      "0 CACHE\n",
      "0 CACHE\n",
      "0 CACHE\n",
      "0 CACHE\n",
      "100 LOAD_CONST\n",
      "1 POP_TOP\n",
      "171 CALL\n",
      "2 PUSH_NULL\n",
      "0 CACHE\n",
      "0 CACHE\n",
      "0 CACHE\n",
      "0 CACHE\n",
      "0 CACHE\n",
      "0 CACHE\n",
      "171 CALL\n",
      "1 POP_TOP\n",
      "0 CACHE\n",
      "0 CACHE\n",
      "0 CACHE\n",
      "0 CACHE\n",
      "0 CACHE\n",
      "0 CACHE\n",
      "125 STORE_FAST\n",
      "1 POP_TOP\n",
      "100 LOAD_CONST\n",
      "2 PUSH_NULL\n",
      "132 MAKE_FUNCTION\n",
      "0 CACHE\n",
      "125 STORE_FAST\n",
      "2 PUSH_NULL\n",
      "116 LOAD_GLOBAL\n",
      "5 END_SEND\n",
      "0 CACHE\n",
      "0 CACHE\n",
      "0 CACHE\n",
      "0 CACHE\n",
      "0 CACHE\n",
      "0 CACHE\n",
      "0 CACHE\n",
      "0 CACHE\n",
      "116 LOAD_GLOBAL\n",
      "8 <8>\n",
      "0 CACHE\n",
      "0 CACHE\n",
      "0 CACHE\n",
      "0 CACHE\n",
      "0 CACHE\n",
      "0 CACHE\n",
      "0 CACHE\n",
      "0 CACHE\n",
      "100 LOAD_CONST\n",
      "3 INTERPRETER_EXIT\n",
      "171 CALL\n",
      "2 PUSH_NULL\n",
      "0 CACHE\n",
      "0 CACHE\n",
      "0 CACHE\n",
      "0 CACHE\n",
      "0 CACHE\n",
      "0 CACHE\n",
      "125 STORE_FAST\n",
      "3 INTERPRETER_EXIT\n",
      "116 LOAD_GLOBAL\n",
      "0 CACHE\n",
      "0 CACHE\n",
      "0 CACHE\n",
      "0 CACHE\n",
      "0 CACHE\n",
      "0 CACHE\n",
      "0 CACHE\n",
      "0 CACHE\n",
      "0 CACHE\n",
      "106 LOAD_ATTR\n",
      "11 UNARY_NEGATIVE\n",
      "0 CACHE\n",
      "0 CACHE\n",
      "0 CACHE\n",
      "0 CACHE\n",
      "0 CACHE\n",
      "0 CACHE\n",
      "0 CACHE\n",
      "0 CACHE\n",
      "0 CACHE\n",
      "0 CACHE\n",
      "0 CACHE\n",
      "0 CACHE\n",
      "0 CACHE\n",
      "0 CACHE\n",
      "0 CACHE\n",
      "0 CACHE\n",
      "0 CACHE\n",
      "0 CACHE\n",
      "116 LOAD_GLOBAL\n",
      "13 <13>\n",
      "0 CACHE\n",
      "0 CACHE\n",
      "0 CACHE\n",
      "0 CACHE\n",
      "0 CACHE\n",
      "0 CACHE\n",
      "0 CACHE\n",
      "0 CACHE\n",
      "124 LOAD_FAST\n",
      "3 INTERPRETER_EXIT\n",
      "124 LOAD_FAST\n",
      "2 PUSH_NULL\n",
      "171 CALL\n",
      "2 PUSH_NULL\n",
      "0 CACHE\n",
      "0 CACHE\n",
      "0 CACHE\n",
      "0 CACHE\n",
      "0 CACHE\n",
      "0 CACHE\n",
      "171 CALL\n",
      "1 POP_TOP\n",
      "0 CACHE\n",
      "0 CACHE\n",
      "0 CACHE\n",
      "0 CACHE\n",
      "0 CACHE\n",
      "0 CACHE\n",
      "125 STORE_FAST\n",
      "4 END_FOR\n",
      "116 LOAD_GLOBAL\n",
      "15 UNARY_INVERT\n",
      "0 CACHE\n",
      "0 CACHE\n",
      "0 CACHE\n",
      "0 CACHE\n",
      "0 CACHE\n",
      "0 CACHE\n",
      "0 CACHE\n",
      "0 CACHE\n",
      "116 LOAD_GLOBAL\n",
      "17 RESERVED\n",
      "0 CACHE\n",
      "0 CACHE\n",
      "0 CACHE\n",
      "0 CACHE\n",
      "0 CACHE\n",
      "0 CACHE\n",
      "0 CACHE\n",
      "0 CACHE\n",
      "124 LOAD_FAST\n",
      "4 END_FOR\n",
      "116 LOAD_GLOBAL\n",
      "19 <19>\n",
      "0 CACHE\n",
      "0 CACHE\n",
      "0 CACHE\n",
      "0 CACHE\n",
      "0 CACHE\n",
      "0 CACHE\n",
      "0 CACHE\n",
      "0 CACHE\n",
      "124 LOAD_FAST\n",
      "1 POP_TOP\n",
      "124 LOAD_FAST\n",
      "0 CACHE\n",
      "171 CALL\n",
      "2 PUSH_NULL\n",
      "0 CACHE\n",
      "0 CACHE\n",
      "0 CACHE\n",
      "0 CACHE\n",
      "0 CACHE\n",
      "0 CACHE\n",
      "171 CALL\n",
      "2 PUSH_NULL\n",
      "0 CACHE\n",
      "0 CACHE\n",
      "0 CACHE\n",
      "0 CACHE\n",
      "0 CACHE\n",
      "0 CACHE\n",
      "171 CALL\n",
      "1 POP_TOP\n",
      "0 CACHE\n",
      "0 CACHE\n",
      "0 CACHE\n",
      "0 CACHE\n",
      "0 CACHE\n",
      "0 CACHE\n",
      "83 RETURN_VALUE\n",
      "0 CACHE\n"
     ]
    }
   ],
   "source": [
    "import opcode\n",
    "\n",
    "for op in convert_map.__code__.co_code:\n",
    "    print(op, opcode.opname[op])"
   ]
  },
  {
   "cell_type": "code",
   "execution_count": 1,
   "id": "35618a97",
   "metadata": {},
   "outputs": [],
   "source": [
    "from toolz import compose"
   ]
  },
  {
   "cell_type": "code",
   "execution_count": 6,
   "id": "3d57d1cf",
   "metadata": {},
   "outputs": [],
   "source": [
    "_f = lambda x: x + 10\n",
    "_g = lambda x: x * 100\n",
    "_h = lambda x: x /5"
   ]
  },
  {
   "cell_type": "code",
   "execution_count": 3,
   "id": "f45daeed",
   "metadata": {},
   "outputs": [
    {
     "data": {
      "text/plain": [
       "[1100, 1200, 1300, 1400, 1500]"
      ]
     },
     "execution_count": 3,
     "metadata": {},
     "output_type": "execute_result"
    }
   ],
   "source": [
    "list(map(_g, (list(map(_f, [1,2,3,4,5])))))"
   ]
  },
  {
   "cell_type": "code",
   "execution_count": 7,
   "id": "f1a78caa",
   "metadata": {},
   "outputs": [],
   "source": [
    "_c = compose(_h,_g,_f)"
   ]
  },
  {
   "cell_type": "code",
   "execution_count": 8,
   "id": "ad62ff82",
   "metadata": {},
   "outputs": [
    {
     "data": {
      "text/plain": [
       "[220.0, 240.0, 260.0, 280.0, 300.0]"
      ]
     },
     "execution_count": 8,
     "metadata": {},
     "output_type": "execute_result"
    }
   ],
   "source": [
    "list(map(_c, [1,2,3,4,5]))"
   ]
  },
  {
   "cell_type": "code",
   "execution_count": 9,
   "id": "7fbe58aa",
   "metadata": {},
   "outputs": [],
   "source": [
    "data = [[1,2,3],[3,4,5]]"
   ]
  },
  {
   "cell_type": "code",
   "execution_count": 10,
   "id": "b8cb80f3",
   "metadata": {},
   "outputs": [],
   "source": [
    "from toolz import curry"
   ]
  },
  {
   "cell_type": "code",
   "execution_count": 11,
   "id": "116b139e",
   "metadata": {},
   "outputs": [],
   "source": [
    "@curry\n",
    "def test_fun(a,b,c):\n",
    "    return a + b + c"
   ]
  },
  {
   "cell_type": "code",
   "execution_count": 13,
   "id": "672b6834",
   "metadata": {},
   "outputs": [
    {
     "data": {
      "text/plain": [
       "True"
      ]
     },
     "execution_count": 13,
     "metadata": {},
     "output_type": "execute_result"
    }
   ],
   "source": [
    "from typing import Callable\n",
    "isinstance(test_fun, Callable)"
   ]
  },
  {
   "cell_type": "code",
   "execution_count": 17,
   "id": "a7a6326b",
   "metadata": {},
   "outputs": [
    {
     "data": {
      "text/plain": [
       "3"
      ]
     },
     "execution_count": 17,
     "metadata": {},
     "output_type": "execute_result"
    }
   ],
   "source": [
    "test_fun(1)(1,1)"
   ]
  },
  {
   "cell_type": "code",
   "execution_count": 27,
   "id": "577a345f",
   "metadata": {},
   "outputs": [],
   "source": [
    "from toolz.curried import map as map_curried\n",
    "from toolz.curried import filter as filter_curried"
   ]
  },
  {
   "cell_type": "code",
   "execution_count": 28,
   "id": "57d22ca3",
   "metadata": {},
   "outputs": [
    {
     "data": {
      "text/plain": [
       "[[1, 2, 3], [3, 4, 5]]"
      ]
     },
     "execution_count": 28,
     "metadata": {},
     "output_type": "execute_result"
    }
   ],
   "source": [
    "data"
   ]
  },
  {
   "cell_type": "code",
   "execution_count": 30,
   "id": "3d91b5d5",
   "metadata": {},
   "outputs": [],
   "source": [
    "is_even = lambda x: x % 2 == 0"
   ]
  },
  {
   "cell_type": "code",
   "execution_count": 31,
   "id": "54af2473",
   "metadata": {},
   "outputs": [
    {
     "data": {
      "text/plain": [
       "True"
      ]
     },
     "execution_count": 31,
     "metadata": {},
     "output_type": "execute_result"
    }
   ],
   "source": [
    "is_even(4)"
   ]
  },
  {
   "cell_type": "code",
   "execution_count": 19,
   "id": "f027d611",
   "metadata": {},
   "outputs": [],
   "source": [
    "_add_one = lambda x: x + 1"
   ]
  },
  {
   "cell_type": "code",
   "execution_count": 32,
   "id": "d72929d7",
   "metadata": {},
   "outputs": [],
   "source": [
    "_sum = compose(list,map_curried( _add_one), filter_curried(is_even))"
   ]
  },
  {
   "cell_type": "code",
   "execution_count": 34,
   "id": "ca720f1e",
   "metadata": {},
   "outputs": [],
   "source": [
    "_sum2 = compose(list,map_curried( _add_one))"
   ]
  },
  {
   "cell_type": "code",
   "execution_count": 35,
   "id": "1e05faf6",
   "metadata": {},
   "outputs": [
    {
     "data": {
      "text/plain": [
       "[[2, 3, 4], [4, 5, 6]]"
      ]
     },
     "execution_count": 35,
     "metadata": {},
     "output_type": "execute_result"
    }
   ],
   "source": [
    "list(map(_sum2, data))"
   ]
  },
  {
   "cell_type": "code",
   "execution_count": 36,
   "id": "405309d8",
   "metadata": {},
   "outputs": [
    {
     "data": {
      "text/plain": [
       "[[3], [5]]"
      ]
     },
     "execution_count": 36,
     "metadata": {},
     "output_type": "execute_result"
    }
   ],
   "source": [
    "list(map(_sum, data))"
   ]
  },
  {
   "cell_type": "code",
   "execution_count": null,
   "id": "eb99d77b",
   "metadata": {},
   "outputs": [],
   "source": []
  }
 ],
 "metadata": {
  "kernelspec": {
   "display_name": "Python 3",
   "language": "python",
   "name": "python3"
  },
  "language_info": {
   "codemirror_mode": {
    "name": "ipython",
    "version": 3
   },
   "file_extension": ".py",
   "mimetype": "text/x-python",
   "name": "python",
   "nbconvert_exporter": "python",
   "pygments_lexer": "ipython3",
   "version": "3.12.1"
  }
 },
 "nbformat": 4,
 "nbformat_minor": 5
}
