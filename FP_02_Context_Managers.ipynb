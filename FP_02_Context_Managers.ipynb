{
  "cells": [
    {
      "cell_type": "markdown",
      "metadata": {
        "colab_type": "text",
        "id": "view-in-github"
      },
      "source": [
        "<a href=\"https://colab.research.google.com/github/canimus/python-workshop-fp/blob/main/FP_02_Context_Managers.ipynb\" target=\"_parent\"><img src=\"https://colab.research.google.com/assets/colab-badge.svg\" alt=\"Open In Colab\"/></a>"
      ]
    },
    {
      "cell_type": "markdown",
      "metadata": {
        "id": "bjXHPLsp7ftb"
      },
      "source": [
        "# Context Managers\n",
        "\n",
        "\n",
        "- Use of the `__enter__` and `__exit__` methods for context manager behavior\n",
        "- Create a `class` that contains methods: `__enter__` and `__exit__`\n",
        "\n",
        "Aid:\n",
        "```python\n",
        "class ClassName:\n",
        "    def __enter__(self):\n",
        "        pass\n",
        "    def __exit__(self):\n",
        "        pass\n",
        "\n",
        "```"
      ]
    },
    {
      "cell_type": "code",
      "execution_count": null,
      "metadata": {
        "id": "06juzQfDdlNA"
      },
      "outputs": [],
      "source": [
        "class Orange():\n",
        "    def __init__(self, weight):\n",
        "        self.weight = weight\n",
        "\n",
        "    def __str__(self):\n",
        "        return f\"Orange(weight={self.weight})\"\n",
        "\n",
        "    def __repr__(self):\n",
        "        return f\"Orange({self.weight})\"\n",
        "    \n",
        "    def __len__(self):\n",
        "        return self.weight\n",
        "    \n",
        "    def get_weight(self):\n",
        "        return self.weight\n",
        "    \n",
        "    def peel(self):\n",
        "        print(\"Peeling the orange...\")\n",
        "        return self\n",
        "    def squeeze(self):\n",
        "        print(\"Squeezing the orange...\")\n",
        "        return self"
      ]
    },
    {
      "cell_type": "code",
      "execution_count": 12,
      "metadata": {},
      "outputs": [
        {
          "name": "stdout",
          "output_type": "stream",
          "text": [
            "Peeling the orange...\n",
            "Squeezing the orange...\n"
          ]
        },
        {
          "data": {
            "text/plain": [
              "Orange(10)"
            ]
          },
          "execution_count": 12,
          "metadata": {},
          "output_type": "execute_result"
        }
      ],
      "source": [
        "o = Orange(10)\n",
        "o.peel().squeeze()"
      ]
    },
    {
      "cell_type": "code",
      "execution_count": 13,
      "metadata": {},
      "outputs": [
        {
          "name": "stdout",
          "output_type": "stream",
          "text": [
            "Inside context\n",
            "# python-workshop-fp\n",
            "Functional programming workshop and exercises\n",
            "\n",
            "## Day 1:\n",
            "- [Data Types](FP_01_Data_Types.ipynb)\n",
            "- [Context Managers](FP_02_Context_Managers.ipynb)\n",
            "Exit context\n"
          ]
        }
      ],
      "source": [
        "with open(\"README.md\") as reader:\n",
        "    print(\"Inside context\")\n",
        "    content = reader.read()\n",
        "    print(content)\n",
        "    print(\"Exit context\")\n"
      ]
    },
    {
      "cell_type": "code",
      "execution_count": 14,
      "metadata": {},
      "outputs": [],
      "source": [
        "class MyContext:\n",
        "    def __enter__(self):\n",
        "        print(\"Entering context\")\n",
        "        return self\n",
        "\n",
        "    def __exit__(self, exc_type, exc_value, traceback):\n",
        "        print(\"Exiting context\")\n",
        "        if exc_type:\n",
        "            print(f\"An exception occurred: {exc_value}\")\n",
        "        return True  # Suppress the exception if any"
      ]
    },
    {
      "cell_type": "code",
      "execution_count": 15,
      "metadata": {},
      "outputs": [
        {
          "name": "stdout",
          "output_type": "stream",
          "text": [
            "Entering context\n",
            "Inside MyContext\n",
            "Exiting MyContext normally\n",
            "Exiting context\n"
          ]
        }
      ],
      "source": [
        "with MyContext() as ctx:\n",
        "    print(\"Inside MyContext\")\n",
        "    # Uncomment the next line to see exception handling in action\n",
        "    # raise ValueError(\"An error occurred!\")\n",
        "    print(\"Exiting MyContext normally\")"
      ]
    },
    {
      "cell_type": "code",
      "execution_count": null,
      "metadata": {},
      "outputs": [],
      "source": []
    }
  ],
  "metadata": {
    "colab": {
      "authorship_tag": "ABX9TyNMtocjeRIYCFNRzVJym1sP",
      "include_colab_link": true,
      "provenance": []
    },
    "kernelspec": {
      "display_name": "Python 3",
      "name": "python3"
    },
    "language_info": {
      "codemirror_mode": {
        "name": "ipython",
        "version": 3
      },
      "file_extension": ".py",
      "mimetype": "text/x-python",
      "name": "python",
      "nbconvert_exporter": "python",
      "pygments_lexer": "ipython3",
      "version": "3.12.1"
    }
  },
  "nbformat": 4,
  "nbformat_minor": 0
}
