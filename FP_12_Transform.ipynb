{
 "cells": [
  {
   "cell_type": "markdown",
   "id": "9171876f",
   "metadata": {},
   "source": [
    "# Final Exercise\n",
    "\n",
    "From the data structure below, your task is to use the functional programming principles to:\n",
    "- Extract from the `web-app.servlet` \n",
    "- `first` entry of the `init-param` \n",
    "- `filter` the values of the keys prefixed with `data`\n",
    "- retrieve the value of the `key` ending with `Password`\n",
    "\n",
    "### Hints\n",
    "```python\n",
    "# ------------------ Libraries\n",
    "from toolz import first\n",
    "from operator import itemgetter as it\n",
    "\n",
    "\n",
    "# ------------------ Sample\n",
    "d = {\"a\":10}\n",
    "it(\"a\")(d) # 10\n",
    "\"Hola\".endswith(\"la\") # True\n",
    "\n",
    "# Success!\n",
    "```"
   ]
  },
  {
   "cell_type": "code",
   "execution_count": 2,
   "id": "18285668",
   "metadata": {},
   "outputs": [],
   "source": [
    "data = {\n",
    "    \"web-app\": {\n",
    "  \"servlet\": [   \n",
    "    {\n",
    "      \"servlet-name\": \"cofaxCDS\",\n",
    "      \"servlet-class\": \"org.cofax.cds.CDSServlet\",\n",
    "      \"init-param\": {\n",
    "        \"configGlossary:installationAt\": \"Philadelphia, PA\",\n",
    "        \"configGlossary:adminEmail\": \"ksm@pobox.com\",\n",
    "        \"configGlossary:poweredBy\": \"Cofax\",\n",
    "        \"configGlossary:poweredByIcon\": \"/images/cofax.gif\",\n",
    "        \"configGlossary:staticPath\": \"/content/static\",\n",
    "        \"templateProcessorClass\": \"org.cofax.WysiwygTemplate\",\n",
    "        \"templateLoaderClass\": \"org.cofax.FilesTemplateLoader\",\n",
    "        \"templatePath\": \"templates\",\n",
    "        \"templateOverridePath\": \"\",\n",
    "        \"defaultListTemplate\": \"listTemplate.htm\",\n",
    "        \"defaultFileTemplate\": \"articleTemplate.htm\",\n",
    "        \"useJSP\": False,\n",
    "        \"jspListTemplate\": \"listTemplate.jsp\",\n",
    "        \"jspFileTemplate\": \"articleTemplate.jsp\",\n",
    "        \"cachePackageTagsTrack\": 200,\n",
    "        \"cachePackageTagsStore\": 200,\n",
    "        \"cachePackageTagsRefresh\": 60,\n",
    "        \"cacheTemplatesTrack\": 100,\n",
    "        \"cacheTemplatesStore\": 50,\n",
    "        \"cacheTemplatesRefresh\": 15,\n",
    "        \"cachePagesTrack\": 200,\n",
    "        \"cachePagesStore\": 100,\n",
    "        \"cachePagesRefresh\": 10,\n",
    "        \"cachePagesDirtyRead\": 10,\n",
    "        \"searchEngineListTemplate\": \"forSearchEnginesList.htm\",\n",
    "        \"searchEngineFileTemplate\": \"forSearchEngines.htm\",\n",
    "        \"searchEngineRobotsDb\": \"WEB-INF/robots.db\",\n",
    "        \"useDataStore\": True,\n",
    "        \"dataStoreClass\": \"org.cofax.SqlDataStore\",\n",
    "        \"redirectionClass\": \"org.cofax.SqlRedirection\",\n",
    "        \"dataStoreName\": \"cofax\",\n",
    "        \"dataStoreDriver\": \"com.microsoft.jdbc.sqlserver.SQLServerDriver\",\n",
    "        \"dataStoreUrl\": \"jdbc:microsoft:sqlserver://LOCALHOST:1433;DatabaseName=goon\",\n",
    "        \"dataStoreUser\": \"sa\",\n",
    "        \"dataStorePassword\": \"dataStoreTestQuery\",\n",
    "        \"dataStoreTestQuery\": \"SET NOCOUNT ON;select test='test';\",\n",
    "        \"dataStoreLogFile\": \"/usr/local/tomcat/logs/datastore.log\",\n",
    "        \"dataStoreInitConns\": 10,\n",
    "        \"dataStoreMaxConns\": 100,\n",
    "        \"dataStoreConnUsageLimit\": 100,\n",
    "        \"dataStoreLogLevel\": \"debug\",\n",
    "        \"maxUrlLength\": 500}},\n",
    "    {\n",
    "      \"servlet-name\": \"cofaxEmail\",\n",
    "      \"servlet-class\": \"org.cofax.cds.EmailServlet\",\n",
    "      \"init-param\": {\n",
    "      \"mailHost\": \"mail1\",\n",
    "      \"mailHostOverride\": \"mail2\"}},\n",
    "    {\n",
    "      \"servlet-name\": \"cofaxAdmin\",\n",
    "      \"servlet-class\": \"org.cofax.cds.AdminServlet\"},\n",
    " \n",
    "    {\n",
    "      \"servlet-name\": \"fileServlet\",\n",
    "      \"servlet-class\": \"org.cofax.cds.FileServlet\"},\n",
    "    {\n",
    "      \"servlet-name\": \"cofaxTools\",\n",
    "      \"servlet-class\": \"org.cofax.cms.CofaxToolsServlet\",\n",
    "      \"init-param\": {\n",
    "        \"templatePath\": \"toolstemplates/\",\n",
    "        \"log\": 1,\n",
    "        \"logLocation\": \"/usr/local/tomcat/logs/CofaxTools.log\",\n",
    "        \"logMaxSize\": \"\",\n",
    "        \"dataLog\": 1,\n",
    "        \"dataLogLocation\": \"/usr/local/tomcat/logs/dataLog.log\",\n",
    "        \"dataLogMaxSize\": \"\",\n",
    "        \"removePageCache\": \"/content/admin/remove?cache=pages&id=\",\n",
    "        \"removeTemplateCache\": \"/content/admin/remove?cache=templates&id=\",\n",
    "        \"fileTransferFolder\": \"/usr/local/tomcat/webapps/content/fileTransferFolder\",\n",
    "        \"lookInContext\": 1,\n",
    "        \"adminGroupID\": 4,\n",
    "        \"betaServer\": True}}],\n",
    "  \"servlet-mapping\": {\n",
    "    \"cofaxCDS\": \"/\",\n",
    "    \"cofaxEmail\": \"/cofaxutil/aemail/*\",\n",
    "    \"cofaxAdmin\": \"/admin/*\",\n",
    "    \"fileServlet\": \"/static/*\",\n",
    "    \"cofaxTools\": \"/tools/*\"},\n",
    " \n",
    "  \"taglib\": {\n",
    "    \"taglib-uri\": \"cofax.tld\",\n",
    "    \"taglib-location\": \"/WEB-INF/tlds/cofax.tld\"}}}"
   ]
  },
  {
   "cell_type": "code",
   "execution_count": 3,
   "id": "077d6818",
   "metadata": {},
   "outputs": [
    {
     "data": {
      "text/plain": [
       "'dataStoreTestQuery'"
      ]
     },
     "execution_count": 3,
     "metadata": {},
     "output_type": "execute_result"
    }
   ],
   "source": [
    "# Left to Right\n",
    "data[\"web-app\"][\"servlet\"][0][\"init-param\"][\"dataStorePassword\"]"
   ]
  },
  {
   "cell_type": "markdown",
   "id": "66afda96",
   "metadata": {},
   "source": [
    "# Final Exercise\n",
    "\n",
    "From the data structure below, your task is to use the functional programming principles to:\n",
    "- Extract from the `web-app.servlet` \n",
    "- `first` entry of the `init-param` \n",
    "- `filter` the values of the keys prefixed with `data`\n",
    "- retrieve the value of the `key` ending with `Password`"
   ]
  },
  {
   "cell_type": "code",
   "execution_count": 4,
   "id": "0be173c7",
   "metadata": {},
   "outputs": [
    {
     "data": {
      "text/plain": [
       "{'dataStorePassword': 'dataStoreTestQuery'}"
      ]
     },
     "execution_count": 4,
     "metadata": {},
     "output_type": "execute_result"
    }
   ],
   "source": [
    "from toolz import first, compose, juxt\n",
    "from toolz.curried import keyfilter as keyfilterc\n",
    "from operator import itemgetter as it\n",
    "from operator import methodcaller as mc\n",
    "from operator import and_\n",
    "from functools import partial, reduce\n",
    "\n",
    "_w = it(\"web-app\") # web-app key\n",
    "_s = it(\"servlet\") # servlet key\n",
    "_i = it(\"init-param\") # init-param key\n",
    "_d = mc(\"startswith\", \"data\") # starts with data\n",
    "_p = mc(\"endswith\", \"Password\") # ends with Password\n",
    "_p1 = keyfilterc(_d)\n",
    "_p2 = keyfilterc(_p)\n",
    "\n",
    "# Final composition\n",
    "_c = compose(_p2, _p1, _i, first, _s, _w) # Obtain dictionary base\n",
    "_c(data)"
   ]
  },
  {
   "cell_type": "code",
   "execution_count": null,
   "id": "bc1dfbd2",
   "metadata": {},
   "outputs": [],
   "source": []
  }
 ],
 "metadata": {
  "kernelspec": {
   "display_name": "Python 3",
   "language": "python",
   "name": "python3"
  },
  "language_info": {
   "codemirror_mode": {
    "name": "ipython",
    "version": 3
   },
   "file_extension": ".py",
   "mimetype": "text/x-python",
   "name": "python",
   "nbconvert_exporter": "python",
   "pygments_lexer": "ipython3",
   "version": "3.12.1"
  }
 },
 "nbformat": 4,
 "nbformat_minor": 5
}
