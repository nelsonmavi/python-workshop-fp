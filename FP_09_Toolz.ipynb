{
 "cells": [
  {
   "cell_type": "code",
   "execution_count": 1,
   "id": "f2bc2eb9",
   "metadata": {},
   "outputs": [
    {
     "data": {
      "text/plain": [
       "{'a': 10, 'b': 20, 'c': 30}"
      ]
     },
     "execution_count": 1,
     "metadata": {},
     "output_type": "execute_result"
    }
   ],
   "source": [
    "d = {\"a\": 10, \"b\": 20, \"c\": 30}\n",
    "d"
   ]
  },
  {
   "cell_type": "code",
   "execution_count": 3,
   "id": "329b7d1e",
   "metadata": {},
   "outputs": [
    {
     "data": {
      "text/plain": [
       "{'a': 10}"
      ]
     },
     "execution_count": 3,
     "metadata": {},
     "output_type": "execute_result"
    }
   ],
   "source": [
    "from toolz import keyfilter, valfilter, valmap, keymap\n",
    "a_filter = lambda x: x == \"a\"\n",
    "keyfilter(a_filter, d)"
   ]
  },
  {
   "cell_type": "code",
   "execution_count": 4,
   "id": "516d5d76",
   "metadata": {},
   "outputs": [
    {
     "data": {
      "text/plain": [
       "{'[a]': 10, '[b]': 20, '[c]': 30}"
      ]
     },
     "execution_count": 4,
     "metadata": {},
     "output_type": "execute_result"
    }
   ],
   "source": [
    "keymap(lambda x: \"[\" + x + \"]\", d)"
   ]
  },
  {
   "cell_type": "code",
   "execution_count": 5,
   "id": "b342f8ee",
   "metadata": {},
   "outputs": [
    {
     "data": {
      "text/plain": [
       "{'b': 20, 'c': 30}"
      ]
     },
     "execution_count": 5,
     "metadata": {},
     "output_type": "execute_result"
    }
   ],
   "source": [
    "valfilter(lambda x: x > 15, d)"
   ]
  },
  {
   "cell_type": "code",
   "execution_count": 7,
   "id": "568d172f",
   "metadata": {},
   "outputs": [
    {
     "data": {
      "text/plain": [
       "{'a': 100, 'b': 200, 'c': 300}"
      ]
     },
     "execution_count": 7,
     "metadata": {},
     "output_type": "execute_result"
    }
   ],
   "source": [
    "valmap(lambda x: x * 10, d)"
   ]
  },
  {
   "cell_type": "code",
   "execution_count": 14,
   "id": "3a161bc9",
   "metadata": {},
   "outputs": [
    {
     "data": {
      "text/plain": [
       "[Person(name='john', lastname='doe'),\n",
       " Person(name='jane', lastname='doe'),\n",
       " Person(name='mary', lastname='jane')]"
      ]
     },
     "execution_count": 14,
     "metadata": {},
     "output_type": "execute_result"
    }
   ],
   "source": [
    "from toolz import pluck\n",
    "from collections import namedtuple\n",
    "from itertools import starmap\n",
    "\n",
    "p = [{\"name\": \"john\",\"lastname\": \"doe\"},\n",
    "     {\"name\": \"jane\",\"lastname\": \"doe\"},\n",
    "     {\"name\": \"mary\",\"lastname\": \"jane\"}]\n",
    "\n",
    "Person = namedtuple(\"Person\", [\"name\", \"lastname\"])\n",
    "\n",
    "list(pluck(\"name\",p))\n",
    "\n",
    "list(starmap(Person, pluck([\"name\", \"lastname\"], p)))"
   ]
  },
  {
   "cell_type": "code",
   "execution_count": 24,
   "id": "a01231a5",
   "metadata": {},
   "outputs": [
    {
     "data": {
      "text/plain": [
       "[('john', 'doe'), ('jane', 'doe'), ('mary', 'jane')]"
      ]
     },
     "execution_count": 24,
     "metadata": {},
     "output_type": "execute_result"
    }
   ],
   "source": [
    "from operator import itemgetter as it\n",
    "from toolz import juxt, compose\n",
    "\n",
    "list(map(juxt(it(\"name\"), it(\"lastname\")),p))"
   ]
  },
  {
   "cell_type": "code",
   "execution_count": null,
   "id": "3daa0b4b",
   "metadata": {},
   "outputs": [],
   "source": [
    "y = [10,20,30]"
   ]
  },
  {
   "cell_type": "code",
   "execution_count": 28,
   "id": "fa91864a",
   "metadata": {},
   "outputs": [
    {
     "data": {
      "text/plain": [
       "(20, 100)"
      ]
     },
     "execution_count": 28,
     "metadata": {},
     "output_type": "execute_result"
    }
   ],
   "source": [
    "juxt([lambda x: x + 10, lambda x: x * 10])(10)"
   ]
  },
  {
   "cell_type": "code",
   "execution_count": null,
   "id": "5e77e275",
   "metadata": {},
   "outputs": [],
   "source": []
  }
 ],
 "metadata": {
  "kernelspec": {
   "display_name": "Python 3",
   "language": "python",
   "name": "python3"
  },
  "language_info": {
   "codemirror_mode": {
    "name": "ipython",
    "version": 3
   },
   "file_extension": ".py",
   "mimetype": "text/x-python",
   "name": "python",
   "nbconvert_exporter": "python",
   "pygments_lexer": "ipython3",
   "version": "3.12.1"
  }
 },
 "nbformat": 4,
 "nbformat_minor": 5
}
