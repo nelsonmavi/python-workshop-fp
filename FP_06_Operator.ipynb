{
 "cells": [
  {
   "cell_type": "code",
   "execution_count": 1,
   "id": "e243a81f",
   "metadata": {},
   "outputs": [],
   "source": [
    "import operator as O"
   ]
  },
  {
   "cell_type": "code",
   "execution_count": 2,
   "id": "fe14310f",
   "metadata": {},
   "outputs": [
    {
     "data": {
      "text/plain": [
       "[1, 2, 3, 4, 5]"
      ]
     },
     "execution_count": 2,
     "metadata": {},
     "output_type": "execute_result"
    }
   ],
   "source": [
    "[1,2,3] + [4,5]"
   ]
  },
  {
   "cell_type": "code",
   "execution_count": 10,
   "id": "3baa6acb",
   "metadata": {},
   "outputs": [
    {
     "data": {
      "text/plain": [
       "[1, 2, 3, 4, 5]"
      ]
     },
     "execution_count": 10,
     "metadata": {},
     "output_type": "execute_result"
    }
   ],
   "source": [
    "O.add([1,2,3], [4,5])"
   ]
  },
  {
   "cell_type": "code",
   "execution_count": 3,
   "id": "ddf6cef7",
   "metadata": {},
   "outputs": [
    {
     "data": {
      "text/plain": [
       "'abcde'"
      ]
     },
     "execution_count": 3,
     "metadata": {},
     "output_type": "execute_result"
    }
   ],
   "source": [
    "\"abc\" + \"de\""
   ]
  },
  {
   "cell_type": "code",
   "execution_count": 4,
   "id": "2f8ba492",
   "metadata": {},
   "outputs": [],
   "source": [
    "d = {\"a\" : 10, \"b\": 20}"
   ]
  },
  {
   "cell_type": "code",
   "execution_count": 11,
   "id": "515c7dee",
   "metadata": {},
   "outputs": [
    {
     "data": {
      "text/plain": [
       "10"
      ]
     },
     "execution_count": 11,
     "metadata": {},
     "output_type": "execute_result"
    }
   ],
   "source": [
    "O.itemgetter(\"a\")(d)"
   ]
  },
  {
   "cell_type": "code",
   "execution_count": 12,
   "id": "573273b3",
   "metadata": {},
   "outputs": [],
   "source": [
    "class TempClass:\n",
    "    def dummy(self):\n",
    "        return \"Hello\""
   ]
  },
  {
   "cell_type": "code",
   "execution_count": 13,
   "id": "367fe329",
   "metadata": {},
   "outputs": [],
   "source": [
    "c = TempClass()"
   ]
  },
  {
   "cell_type": "code",
   "execution_count": 14,
   "id": "7c6bb30b",
   "metadata": {},
   "outputs": [],
   "source": [
    "_m = O.methodcaller(\"dummy\")"
   ]
  },
  {
   "cell_type": "code",
   "execution_count": 15,
   "id": "ee4e036d",
   "metadata": {},
   "outputs": [
    {
     "data": {
      "text/plain": [
       "'Hello'"
      ]
     },
     "execution_count": 15,
     "metadata": {},
     "output_type": "execute_result"
    }
   ],
   "source": [
    "_m(c)"
   ]
  },
  {
   "cell_type": "code",
   "execution_count": 16,
   "id": "20e9b51a",
   "metadata": {},
   "outputs": [
    {
     "data": {
      "text/plain": [
       "'Hello'"
      ]
     },
     "execution_count": 16,
     "metadata": {},
     "output_type": "execute_result"
    }
   ],
   "source": [
    "c.dummy()"
   ]
  },
  {
   "cell_type": "code",
   "execution_count": null,
   "id": "9fbe1b87",
   "metadata": {},
   "outputs": [],
   "source": []
  }
 ],
 "metadata": {
  "kernelspec": {
   "display_name": "Python 3",
   "language": "python",
   "name": "python3"
  },
  "language_info": {
   "codemirror_mode": {
    "name": "ipython",
    "version": 3
   },
   "file_extension": ".py",
   "mimetype": "text/x-python",
   "name": "python",
   "nbconvert_exporter": "python",
   "pygments_lexer": "ipython3",
   "version": "3.12.1"
  }
 },
 "nbformat": 4,
 "nbformat_minor": 5
}
