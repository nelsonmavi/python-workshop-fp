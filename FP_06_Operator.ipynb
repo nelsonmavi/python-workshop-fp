{
 "cells": [
  {
   "cell_type": "code",
   "execution_count": 1,
   "id": "a2b0ce6e",
   "metadata": {},
   "outputs": [],
   "source": [
    "import operator as O"
   ]
  },
  {
   "cell_type": "code",
   "execution_count": 2,
   "id": "177ab84b",
   "metadata": {},
   "outputs": [
    {
     "data": {
      "text/plain": [
       "[1, 2, 3, 4, 5]"
      ]
     },
     "execution_count": 2,
     "metadata": {},
     "output_type": "execute_result"
    }
   ],
   "source": [
    "[1,2,3] + [4,5]"
   ]
  },
  {
   "cell_type": "code",
   "execution_count": 3,
   "id": "65589981",
   "metadata": {},
   "outputs": [
    {
     "data": {
      "text/plain": [
       "'abcde'"
      ]
     },
     "execution_count": 3,
     "metadata": {},
     "output_type": "execute_result"
    }
   ],
   "source": [
    "\"abc\" + \"de\""
   ]
  },
  {
   "cell_type": "code",
   "execution_count": 4,
   "id": "34e51138",
   "metadata": {},
   "outputs": [],
   "source": [
    "d = {\"a\": 10, \"b\": 20}"
   ]
  },
  {
   "cell_type": "code",
   "execution_count": 5,
   "id": "5864ef0c",
   "metadata": {},
   "outputs": [
    {
     "data": {
      "text/plain": [
       "10"
      ]
     },
     "execution_count": 5,
     "metadata": {},
     "output_type": "execute_result"
    }
   ],
   "source": [
    "O.itemgetter(\"a\")(d)"
   ]
  },
  {
   "cell_type": "code",
   "execution_count": 6,
   "id": "02ab1e3e",
   "metadata": {},
   "outputs": [],
   "source": [
    "class TempClass:\n",
    "    def dummy(self):\n",
    "        return \"hello\""
   ]
  },
  {
   "cell_type": "code",
   "execution_count": 11,
   "id": "83a09576",
   "metadata": {},
   "outputs": [],
   "source": [
    "c = TempClass()"
   ]
  },
  {
   "cell_type": "code",
   "execution_count": 12,
   "id": "f0efe99c",
   "metadata": {},
   "outputs": [],
   "source": [
    "_m = O.methodcaller(\"dummy\")"
   ]
  },
  {
   "cell_type": "code",
   "execution_count": 13,
   "id": "e28c97f8",
   "metadata": {},
   "outputs": [
    {
     "data": {
      "text/plain": [
       "'hello'"
      ]
     },
     "execution_count": 13,
     "metadata": {},
     "output_type": "execute_result"
    }
   ],
   "source": [
    "c.dummy()"
   ]
  },
  {
   "cell_type": "code",
   "execution_count": 14,
   "id": "662390d1",
   "metadata": {},
   "outputs": [
    {
     "data": {
      "text/plain": [
       "'hello'"
      ]
     },
     "execution_count": 14,
     "metadata": {},
     "output_type": "execute_result"
    }
   ],
   "source": [
    "_m(c)"
   ]
  },
  {
   "cell_type": "code",
   "execution_count": null,
   "id": "f0d933bc",
   "metadata": {},
   "outputs": [],
   "source": []
  }
 ],
 "metadata": {
  "kernelspec": {
   "display_name": "Python 3",
   "language": "python",
   "name": "python3"
  },
  "language_info": {
   "codemirror_mode": {
    "name": "ipython",
    "version": 3
   },
   "file_extension": ".py",
   "mimetype": "text/x-python",
   "name": "python",
   "nbconvert_exporter": "python",
   "pygments_lexer": "ipython3",
   "version": "3.12.1"
  }
 },
 "nbformat": 4,
 "nbformat_minor": 5
}
