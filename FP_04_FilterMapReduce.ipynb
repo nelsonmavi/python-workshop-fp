{
 "cells": [
  {
   "cell_type": "markdown",
   "id": "6ea18311",
   "metadata": {},
   "source": [
    "# Filter, Map, Reduce\n",
    "\n",
    "Apply the fundamental concepts for composition\n",
    "- Use `filter` and `filterfalse` as predicates for target transforms\n",
    "- Use `map` and `lambda` to apply functions to collections\n",
    "- Use `functools.reduce` to recursively perform an operation\n",
    "\n",
    "\n",
    "## Aid\n",
    "```python\n",
    "# Filter odd numbers\n",
    "odds = filter(lambda x: x % 2, range(10))\n",
    "\n",
    "# Make odd numbers even\n",
    "even = map(lambda x: x*2, odds)\n",
    "\n",
    "# Sum all\n",
    "from operator import add\n",
    "map(add, even)\n",
    "```\n",
    "\n",
    "> __Remember:__ <br>\n",
    "> _Keep it simple_, and likely there is a function that does it `Σ`"
   ]
  },
  {
   "cell_type": "code",
   "execution_count": 10,
   "id": "c4b5cf0c",
   "metadata": {},
   "outputs": [],
   "source": [
    "simple_list = [1, 2, 3, 4, 5]"
   ]
  },
  {
   "cell_type": "code",
   "execution_count": 11,
   "id": "7621b2a0",
   "metadata": {},
   "outputs": [],
   "source": [
    "infinite_list = (x for x in range(1_000_000_000))"
   ]
  },
  {
   "cell_type": "code",
   "execution_count": 5,
   "id": "f1c99e4e",
   "metadata": {},
   "outputs": [
    {
     "data": {
      "text/plain": [
       "1"
      ]
     },
     "execution_count": 5,
     "metadata": {},
     "output_type": "execute_result"
    }
   ],
   "source": [
    "next(infinite_list)"
   ]
  },
  {
   "cell_type": "markdown",
   "id": "5a2ca50c",
   "metadata": {},
   "source": []
  },
  {
   "cell_type": "code",
   "execution_count": 14,
   "id": "7e8a4e2a",
   "metadata": {},
   "outputs": [],
   "source": [
    "_gt = lambda x: x >= 3"
   ]
  },
  {
   "cell_type": "code",
   "execution_count": 15,
   "id": "db862a9b",
   "metadata": {},
   "outputs": [],
   "source": [
    "def exclude_less_than_two(x):\n",
    "    return x <= 2"
   ]
  },
  {
   "cell_type": "code",
   "execution_count": 13,
   "id": "0ec7bb54",
   "metadata": {},
   "outputs": [
    {
     "data": {
      "text/plain": [
       "[4, 5]"
      ]
     },
     "execution_count": 13,
     "metadata": {},
     "output_type": "execute_result"
    }
   ],
   "source": [
    "list(filter(_gt, simple_list))"
   ]
  },
  {
   "cell_type": "code",
   "execution_count": 16,
   "id": "6bdb3252",
   "metadata": {},
   "outputs": [
    {
     "data": {
      "text/plain": [
       "[1, 2]"
      ]
     },
     "execution_count": 16,
     "metadata": {},
     "output_type": "execute_result"
    }
   ],
   "source": [
    "list(filter(exclude_less_than_two, simple_list))"
   ]
  },
  {
   "cell_type": "code",
   "execution_count": 17,
   "id": "25041d6a",
   "metadata": {},
   "outputs": [],
   "source": [
    "from itertools import filterfalse"
   ]
  },
  {
   "cell_type": "markdown",
   "id": "2a263769",
   "metadata": {},
   "source": [
    "MAPS"
   ]
  },
  {
   "cell_type": "code",
   "execution_count": 18,
   "id": "f40d7fc0",
   "metadata": {},
   "outputs": [
    {
     "data": {
      "text/plain": [
       "[1, 2, 3, 4, 5]"
      ]
     },
     "execution_count": 18,
     "metadata": {},
     "output_type": "execute_result"
    }
   ],
   "source": [
    "simple_list"
   ]
  },
  {
   "cell_type": "code",
   "execution_count": 19,
   "id": "05e8a6c5",
   "metadata": {},
   "outputs": [],
   "source": [
    "_a = lambda x: x +10"
   ]
  },
  {
   "cell_type": "code",
   "execution_count": 21,
   "id": "d8316dd0",
   "metadata": {},
   "outputs": [
    {
     "data": {
      "text/plain": [
       "[11, 12, 13, 14, 15]"
      ]
     },
     "execution_count": 21,
     "metadata": {},
     "output_type": "execute_result"
    }
   ],
   "source": [
    "list(map(_a, simple_list))"
   ]
  },
  {
   "cell_type": "markdown",
   "id": "45e1bb4e",
   "metadata": {},
   "source": [
    "Reduce"
   ]
  },
  {
   "cell_type": "code",
   "execution_count": 22,
   "id": "465d923c",
   "metadata": {},
   "outputs": [],
   "source": [
    "from functools import reduce"
   ]
  },
  {
   "cell_type": "code",
   "execution_count": 23,
   "id": "8dbf2c1f",
   "metadata": {},
   "outputs": [
    {
     "name": "stdout",
     "output_type": "stream",
     "text": [
      "\u001b[31mDocstring:\u001b[39m\n",
      "reduce(function, iterable[, initial]) -> value\n",
      "\n",
      "Apply a function of two arguments cumulatively to the items of a sequence\n",
      "or iterable, from left to right, so as to reduce the iterable to a single\n",
      "value.  For example, reduce(lambda x, y: x+y, [1, 2, 3, 4, 5]) calculates\n",
      "((((1+2)+3)+4)+5).  If initial is present, it is placed before the items\n",
      "of the iterable in the calculation, and serves as a default when the\n",
      "iterable is empty.\n",
      "\u001b[31mType:\u001b[39m      builtin_function_or_method"
     ]
    }
   ],
   "source": [
    "reduce?"
   ]
  },
  {
   "cell_type": "code",
   "execution_count": 29,
   "id": "2d080b8b",
   "metadata": {},
   "outputs": [
    {
     "data": {
      "text/plain": [
       "120"
      ]
     },
     "execution_count": 29,
     "metadata": {},
     "output_type": "execute_result"
    }
   ],
   "source": [
    "# Product of members of a collection\n",
    "reduce(lambda x, y: x * y, simple_list, 1)"
   ]
  },
  {
   "cell_type": "code",
   "execution_count": 26,
   "id": "54e480a9",
   "metadata": {},
   "outputs": [
    {
     "data": {
      "text/plain": [
       "15"
      ]
     },
     "execution_count": 26,
     "metadata": {},
     "output_type": "execute_result"
    }
   ],
   "source": [
    "sum(simple_list)"
   ]
  },
  {
   "cell_type": "code",
   "execution_count": null,
   "id": "7a0d313c",
   "metadata": {},
   "outputs": [],
   "source": []
  }
 ],
 "metadata": {
  "kernelspec": {
   "display_name": "Python 3",
   "language": "python",
   "name": "python3"
  },
  "language_info": {
   "codemirror_mode": {
    "name": "ipython",
    "version": 3
   },
   "file_extension": ".py",
   "mimetype": "text/x-python",
   "name": "python",
   "nbconvert_exporter": "python",
   "pygments_lexer": "ipython3",
   "version": "3.12.1"
  }
 },
 "nbformat": 4,
 "nbformat_minor": 5
}
